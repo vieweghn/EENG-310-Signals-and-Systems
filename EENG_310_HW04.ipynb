{
  "nbformat": 4,
  "nbformat_minor": 0,
  "metadata": {
    "colab": {
      "provenance": [],
      "include_colab_link": true
    },
    "kernelspec": {
      "name": "python3",
      "display_name": "Python 3"
    },
    "language_info": {
      "name": "python"
    }
  },
  "cells": [
    {
      "cell_type": "markdown",
      "metadata": {
        "id": "view-in-github",
        "colab_type": "text"
      },
      "source": [
        "<a href=\"https://colab.research.google.com/github/vieweghn/EENG-310-Signals-and-Systems/blob/main/EENG_310_HW04.ipynb\" target=\"_parent\"><img src=\"https://colab.research.google.com/assets/colab-badge.svg\" alt=\"Open In Colab\"/></a>"
      ]
    },
    {
      "cell_type": "code",
      "execution_count": null,
      "metadata": {
        "id": "IigTzS2_baaV"
      },
      "outputs": [],
      "source": [
        "import sympy as sp"
      ]
    },
    {
      "cell_type": "markdown",
      "source": [
        "I'm using colab to post these for convenience of distribution/sharing.\n",
        "\n",
        "You are not required to use colab to solve the problems, but you're welcome to if you wist to.\n",
        "\n",
        "A) Determine $x(0^+)$, and $x(\\infty)$ for the following Laplace Transforms:\n",
        "\n",
        "1. $X(s) = \\frac{4s^2 + 28s + 40}{s(s+3)(s+4)}$\n",
        "2. $X(s) = \\frac{19 - e^{-s}}{s(s^2 + 5s + 6)}$\n",
        "3. $X(s) = \\frac{s^2 + 4}{2s^3+4s^2+10s}$\n"
      ],
      "metadata": {
        "id": "Pn8AdvUDbkRR"
      }
    },
    {
      "cell_type": "code",
      "source": [
        "# A.)\n",
        "s = sp.symbols('s')\n",
        "t = sp.symbols('t', real=True, positive=True)\n",
        "\n",
        "X = (4*s**2+28*s+40)/(s*(s+3)*(s+4))\n",
        "f = s*X\n",
        "print('1.)')\n",
        "print(f'x(infinity) = {sp.limit(f,s,sp.oo)}')\n",
        "print(f'x(0) = {sp.limit(f,s,0)}')\n",
        "\n",
        "X = (19-sp.exp(-s))/(s*(s**2+5*s+6))\n",
        "f = s*X\n",
        "print('2.)')\n",
        "print(f'x(inifinity) = {sp.limit(f,s,sp.oo)}')\n",
        "print(f'x(0) = {sp.limit(f,s,0)}')\n",
        "\n",
        "X = (s**2+4)/(2*s**3+4*s**2+10*s)\n",
        "f = s*X\n",
        "print('3.)')\n",
        "print(f'x(inifinity) = {sp.limit(f,s,sp.oo)}')\n",
        "print(f'x(0) = {sp.limit(f,s,0)}')"
      ],
      "metadata": {
        "colab": {
          "base_uri": "https://localhost:8080/"
        },
        "id": "l4jQpIHidLSh",
        "outputId": "be476b3e-f0fe-43a5-e47e-4c19e50a0466"
      },
      "execution_count": null,
      "outputs": [
        {
          "output_type": "stream",
          "name": "stdout",
          "text": [
            "1.)\n",
            "x(infinity) = 4\n",
            "x(0) = 10/3\n",
            "2.)\n",
            "x(inifinity) = 0\n",
            "x(0) = 3\n",
            "3.)\n",
            "x(inifinity) = 1/2\n",
            "x(0) = 2/5\n"
          ]
        }
      ]
    },
    {
      "cell_type": "code",
      "source": [
        "sp.apart(6/((s+2)*(s+4)))"
      ],
      "metadata": {
        "colab": {
          "base_uri": "https://localhost:8080/",
          "height": 52
        },
        "id": "UANks9VcykDm",
        "outputId": "c35ee20f-f541-4196-b88e-9caff82689c5"
      },
      "execution_count": null,
      "outputs": [
        {
          "output_type": "execute_result",
          "data": {
            "text/plain": [
              "-3/(s + 4) + 3/(s + 2)"
            ],
            "text/latex": "$\\displaystyle - \\frac{3}{s + 4} + \\frac{3}{s + 2}$"
          },
          "metadata": {},
          "execution_count": 60
        }
      ]
    },
    {
      "cell_type": "code",
      "source": [
        "H = 1/(s**2+4*s+5)**2\n",
        "H"
      ],
      "metadata": {
        "colab": {
          "base_uri": "https://localhost:8080/",
          "height": 58
        },
        "id": "JAVyCqaveWPw",
        "outputId": "b905cff2-4ffb-45b3-bea0-484e63417012"
      },
      "execution_count": null,
      "outputs": [
        {
          "output_type": "execute_result",
          "data": {
            "text/plain": [
              "(s**2 + 4*s + 5)**(-2)"
            ],
            "text/latex": "$\\displaystyle \\frac{1}{\\left(s^{2} + 4 s + 5\\right)^{2}}$"
          },
          "metadata": {},
          "execution_count": 61
        }
      ]
    },
    {
      "cell_type": "code",
      "source": [
        "print(H.apart(extension=sp.I))"
      ],
      "metadata": {
        "colab": {
          "base_uri": "https://localhost:8080/"
        },
        "id": "z9QaH2UZPiCl",
        "outputId": "23ff82ca-725c-4f3c-ff24-68e2943bbf8b"
      },
      "execution_count": null,
      "outputs": [
        {
          "output_type": "stream",
          "name": "stdout",
          "text": [
            "I/(4*(s + 2 + I)) - 1/(4*(s + 2 + I)**2) - I/(4*(s + 2 - I)) - 1/(4*(s + 2 - I)**2)\n"
          ]
        }
      ]
    },
    {
      "cell_type": "code",
      "source": [
        "# B.)\n",
        "X = 6 / ((s+2)*(s+4))\n",
        "H1 = sp.apart(X)\n",
        "print(f'1.) {H1}')\n",
        "\n",
        "X = 4 / ((s+1)*(s+2)**2)\n",
        "H2 = sp.apart(X)\n",
        "print(f'2.) {H2}')\n",
        "\n",
        "X = (3*s**3 + 36*s**2 + 131*s + 144) / (s*(s+4)*(s**2+6*s+9))\n",
        "H3 = sp.apart(X)\n",
        "print(f'3.) {H3}')\n",
        "\n",
        "X = ((s+2)**2) / (s*(s+1)**3)\n",
        "H4 = sp.apart(X)\n",
        "print(f'4.) {H4}')\n",
        "\n",
        "X = 1 / ((s**2 + 4*s + 5)**2)\n",
        "H5 = sp.apart(X)\n",
        "print(f'5.) {H5}')"
      ],
      "metadata": {
        "colab": {
          "base_uri": "https://localhost:8080/"
        },
        "id": "S2xFofJYGlSU",
        "outputId": "d5d69e50-2b17-46fa-fb09-7101da1bb8b1"
      },
      "execution_count": null,
      "outputs": [
        {
          "output_type": "stream",
          "name": "stdout",
          "text": [
            "1.) -3/(s + 4) + 3/(s + 2)\n",
            "2.) -4/(s + 2) - 4/(s + 2)**2 + 4/(s + 1)\n",
            "3.) -1/(s + 4) + 2/(s + 3)**2 + 4/s\n",
            "4.) -4/(s + 1) - 3/(s + 1)**2 - 1/(s + 1)**3 + 4/s\n",
            "5.) (s**2 + 4*s + 5)**(-2)\n"
          ]
        }
      ]
    },
    {
      "cell_type": "markdown",
      "source": [
        "B) Find the partial fraction expansion of the following expressions:\n",
        "\n",
        "1. $X(s) = \\frac{6}{(s+2)(s+4)} $\n",
        "2. $X(s) = \\frac{4}{(s+1)(s+2)^2}$\n",
        "3. $X(s) = \\frac{3s^3 + 36s^2 + 131s + 144}{s(s+4)(s^2+6s+9)}$\n",
        "4. $X(s) = \\frac{(s+2)^2}{s(s+1)^3}$\n",
        "5. $X(s).= \\frac{1}{(s^2 + 4s + 5)^2} $\n",
        "\n",
        "C) For each expansion from question B, find the Inverse Laplace Transform\n"
      ],
      "metadata": {
        "id": "5d1ctcVZdboh"
      }
    },
    {
      "cell_type": "code",
      "source": [
        "print('1.)')\n",
        "sp.inverse_laplace_transform(H1, s, t).as_real_imag()[0]"
      ],
      "metadata": {
        "colab": {
          "base_uri": "https://localhost:8080/",
          "height": 56
        },
        "id": "JF5ZZ5D8YZyM",
        "outputId": "86925e9c-c3c8-4583-c461-0a0f51082e07"
      },
      "execution_count": null,
      "outputs": [
        {
          "output_type": "stream",
          "name": "stdout",
          "text": [
            "1.)\n"
          ]
        },
        {
          "output_type": "execute_result",
          "data": {
            "text/plain": [
              "3*exp(-2*t) - 3*exp(-4*t)"
            ],
            "text/latex": "$\\displaystyle 3 e^{- 2 t} - 3 e^{- 4 t}$"
          },
          "metadata": {},
          "execution_count": 64
        }
      ]
    },
    {
      "cell_type": "code",
      "source": [
        "print('2.)')\n",
        "sp.inverse_laplace_transform(H2, s, t).as_real_imag()[0]"
      ],
      "metadata": {
        "colab": {
          "base_uri": "https://localhost:8080/",
          "height": 56
        },
        "id": "7tD6Qky-ZggB",
        "outputId": "f8271d1a-bf7b-4ee4-a304-5cf2d607cfc7"
      },
      "execution_count": null,
      "outputs": [
        {
          "output_type": "stream",
          "name": "stdout",
          "text": [
            "2.)\n"
          ]
        },
        {
          "output_type": "execute_result",
          "data": {
            "text/plain": [
              "-4*t*exp(-2*t) + 4*exp(-t) - 4*exp(-2*t)"
            ],
            "text/latex": "$\\displaystyle - 4 t e^{- 2 t} + 4 e^{- t} - 4 e^{- 2 t}$"
          },
          "metadata": {},
          "execution_count": 65
        }
      ]
    },
    {
      "cell_type": "code",
      "source": [
        "print('3.)')\n",
        "sp.inverse_laplace_transform(H3, s, t).as_real_imag()[0]"
      ],
      "metadata": {
        "colab": {
          "base_uri": "https://localhost:8080/",
          "height": 56
        },
        "id": "TswGIwXrZn9m",
        "outputId": "df21e2d8-d2e0-4297-cff4-878ebdaf20ec"
      },
      "execution_count": null,
      "outputs": [
        {
          "output_type": "stream",
          "name": "stdout",
          "text": [
            "3.)\n"
          ]
        },
        {
          "output_type": "execute_result",
          "data": {
            "text/plain": [
              "2*t*exp(-3*t) + 4 - exp(-4*t)"
            ],
            "text/latex": "$\\displaystyle 2 t e^{- 3 t} + 4 - e^{- 4 t}$"
          },
          "metadata": {},
          "execution_count": 66
        }
      ]
    },
    {
      "cell_type": "code",
      "source": [
        "print('4.)')\n",
        "sp.inverse_laplace_transform(H4, s, t).as_real_imag()[0]"
      ],
      "metadata": {
        "colab": {
          "base_uri": "https://localhost:8080/",
          "height": 71
        },
        "id": "0o2EZZgvZtuo",
        "outputId": "9ff4f3ae-03fe-4ebe-9717-1f9548330cb9"
      },
      "execution_count": null,
      "outputs": [
        {
          "output_type": "stream",
          "name": "stdout",
          "text": [
            "4.)\n"
          ]
        },
        {
          "output_type": "execute_result",
          "data": {
            "text/plain": [
              "-t**2*exp(-t)/2 - 3*t*exp(-t) + 4 - 4*exp(-t)"
            ],
            "text/latex": "$\\displaystyle - \\frac{t^{2} e^{- t}}{2} - 3 t e^{- t} + 4 - 4 e^{- t}$"
          },
          "metadata": {},
          "execution_count": 67
        }
      ]
    },
    {
      "cell_type": "code",
      "source": [
        "print('5.)')\n",
        "sp.inverse_laplace_transform(H5, s, t).as_real_imag()[0]"
      ],
      "metadata": {
        "colab": {
          "base_uri": "https://localhost:8080/",
          "height": 71
        },
        "id": "tpw9cB_zaeXD",
        "outputId": "1e45ad46-dbb9-4464-9a0b-db638eb8d4d8"
      },
      "execution_count": null,
      "outputs": [
        {
          "output_type": "stream",
          "name": "stdout",
          "text": [
            "5.)\n"
          ]
        },
        {
          "output_type": "execute_result",
          "data": {
            "text/plain": [
              "-t*exp(-2*t)*cos(t)/2 + exp(-2*t)*sin(t)/2"
            ],
            "text/latex": "$\\displaystyle - \\frac{t e^{- 2 t} \\cos{\\left(t \\right)}}{2} + \\frac{e^{- 2 t} \\sin{\\left(t \\right)}}{2}$"
          },
          "metadata": {},
          "execution_count": 68
        }
      ]
    },
    {
      "cell_type": "markdown",
      "source": [
        "D) In the circuit below $v_s(t) = 2u(t)$, $R_1=\\mathrm{1~\\Omega}$, $R_2 = \\mathrm{3~\\Omega}$, $C=\\mathrm{0.3689~F}$, and $L=\\mathrm{ 0.2259~H}$.\n",
        "\n",
        "Use the Laplace Transform to determine $v(t)$.\n",
        "\n",
        "E) Using the same circuit, determine $i_L(t)$."
      ],
      "metadata": {
        "id": "wPMZtdvVQPjl"
      }
    },
    {
      "cell_type": "code",
      "source": [
        "R1,R2,L,C=sp.symbols('R1,R2,L,C',real=True,positive=True)\n",
        "vs,v,iL=sp.symbols('vs,v,iL')\n",
        "subsVals = {vs:2/s, R1:1, R2:3, C:0.3689, L:0.2259}\n",
        "\n",
        "f1 = (v-vs)/R1 + v*C*s + iL\n",
        "f2 = v - (R2 + L*s)*iL\n",
        "solns = sp.solve([f1,f2],[v,iL])\n",
        "solns"
      ],
      "metadata": {
        "colab": {
          "base_uri": "https://localhost:8080/"
        },
        "id": "j_7ud0mty3R7",
        "outputId": "1cd9854c-368a-48e3-e86a-7657d0f5db14"
      },
      "execution_count": null,
      "outputs": [
        {
          "output_type": "execute_result",
          "data": {
            "text/plain": [
              "{iL: vs/(C*L*R1*s**2 + C*R1*R2*s + L*s + R1 + R2),\n",
              " v: (L*s*vs + R2*vs)/(C*L*R1*s**2 + C*R1*R2*s + L*s + R1 + R2)}"
            ]
          },
          "metadata": {},
          "execution_count": 69
        }
      ]
    },
    {
      "cell_type": "code",
      "source": [
        "vc_s = solns[v].subs(subsVals)\n",
        "vc_t = sp.inverse_laplace_transform(vc_s,s,t)\n",
        "print('D.)')\n",
        "vc_t"
      ],
      "metadata": {
        "colab": {
          "base_uri": "https://localhost:8080/",
          "height": 56
        },
        "id": "Gf0Iep3ejRhb",
        "outputId": "02214935-2a55-4f09-e663-741506fae5ae"
      },
      "execution_count": null,
      "outputs": [
        {
          "output_type": "stream",
          "name": "stdout",
          "text": [
            "D.)\n"
          ]
        },
        {
          "output_type": "execute_result",
          "data": {
            "text/plain": [
              "1.5 - 1.6466104908103*exp(-7.9954871037221*t)*sinh(3.99105146248661*t) - 1.5*exp(-7.9954871037221*t)*cosh(3.99105146248661*t)"
            ],
            "text/latex": "$\\displaystyle 1.5 - 1.6466104908103 e^{- 7.9954871037221 t} \\sinh{\\left(3.99105146248661 t \\right)} - 1.5 e^{- 7.9954871037221 t} \\cosh{\\left(3.99105146248661 t \\right)}$"
          },
          "metadata": {},
          "execution_count": 70
        }
      ]
    },
    {
      "cell_type": "code",
      "source": [
        "\n",
        "iL_s = solns[iL].subs(subsVals)\n",
        "iL_t = sp.inverse_laplace_transform(iL_s,s,t)\n",
        "print('E.)')\n",
        "iL_t\n"
      ],
      "metadata": {
        "id": "qqxi9iCaki3i",
        "outputId": "b0aca797-9232-4cea-eff9-5e24c81dae57",
        "colab": {
          "base_uri": "https://localhost:8080/",
          "height": 56
        }
      },
      "execution_count": null,
      "outputs": [
        {
          "output_type": "stream",
          "name": "stdout",
          "text": [
            "E.)\n"
          ]
        },
        {
          "output_type": "execute_result",
          "data": {
            "text/plain": [
              "0.5 - 1.00167677351128*exp(-7.9954871037221*t)*sinh(3.99105146248661*t) - 0.5*exp(-7.9954871037221*t)*cosh(3.99105146248661*t)"
            ],
            "text/latex": "$\\displaystyle 0.5 - 1.00167677351128 e^{- 7.9954871037221 t} \\sinh{\\left(3.99105146248661 t \\right)} - 0.5 e^{- 7.9954871037221 t} \\cosh{\\left(3.99105146248661 t \\right)}$"
          },
          "metadata": {},
          "execution_count": 71
        }
      ]
    },
    {
      "cell_type": "markdown",
      "source": [
        "![image.png](data:image/png;base64,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)"
      ],
      "metadata": {
        "id": "dyy-uyg1ezR0"
      }
    },
    {
      "cell_type": "markdown",
      "source": [
        "F) A system has a transfer function:\n",
        "\n",
        "\\begin{equation}\n",
        "H(s) = \\frac{18s + 10}{s^2 + 6s + 5}\n",
        "\\end{equation}\n",
        "\n",
        "Determine the output response from\n",
        "\n",
        "1. $u(t)$\n",
        "2. $2 t u(t)$\n",
        "3. $te^{-4t}u(t)$\n",
        "4. $4\\cos(4t)u(t)$\n"
      ],
      "metadata": {
        "id": "8J9ymzrUf65o"
      }
    },
    {
      "cell_type": "code",
      "source": [
        "H = (18*s + 10)/(s**2 + 6*s + 5)\n",
        "print(H.apart())\n",
        "h = sp.inverse_laplace_transform(H, s, t)\n",
        "h"
      ],
      "metadata": {
        "colab": {
          "base_uri": "https://localhost:8080/",
          "height": 56
        },
        "id": "12XmTTR8etRN",
        "outputId": "66581060-8090-4597-b03d-eb30c5183e87"
      },
      "execution_count": null,
      "outputs": [
        {
          "output_type": "stream",
          "name": "stdout",
          "text": [
            "20/(s + 5) - 2/(s + 1)\n"
          ]
        },
        {
          "output_type": "execute_result",
          "data": {
            "text/plain": [
              "-2*exp(-t) + 20*exp(-5*t)"
            ],
            "text/latex": "$\\displaystyle - 2 e^{- t} + 20 e^{- 5 t}$"
          },
          "metadata": {},
          "execution_count": 72
        }
      ]
    },
    {
      "cell_type": "code",
      "source": [
        "sp.integrate(h, (t, 0, t))"
      ],
      "metadata": {
        "colab": {
          "base_uri": "https://localhost:8080/",
          "height": 38
        },
        "id": "M6jayhllfblH",
        "outputId": "6c9fe4ed-1d56-44f9-ac6c-2bc748ee1e76"
      },
      "execution_count": null,
      "outputs": [
        {
          "output_type": "execute_result",
          "data": {
            "text/plain": [
              "2 + 2*exp(-t) - 4*exp(-5*t)"
            ],
            "text/latex": "$\\displaystyle 2 + 2 e^{- t} - 4 e^{- 5 t}$"
          },
          "metadata": {},
          "execution_count": 73
        }
      ]
    },
    {
      "cell_type": "code",
      "source": [
        "print('1.)')\n",
        "sp.inverse_laplace_transform(H/s, s, t)"
      ],
      "metadata": {
        "colab": {
          "base_uri": "https://localhost:8080/",
          "height": 56
        },
        "id": "vVpFaXNFfgJp",
        "outputId": "8806b7e3-fa6a-4cc6-f45c-3647230668a5"
      },
      "execution_count": null,
      "outputs": [
        {
          "output_type": "stream",
          "name": "stdout",
          "text": [
            "1.)\n"
          ]
        },
        {
          "output_type": "execute_result",
          "data": {
            "text/plain": [
              "2 + 2*exp(-t) - 4*exp(-5*t)"
            ],
            "text/latex": "$\\displaystyle 2 + 2 e^{- t} - 4 e^{- 5 t}$"
          },
          "metadata": {},
          "execution_count": 74
        }
      ]
    },
    {
      "cell_type": "code",
      "source": [
        "u = sp.Heaviside(t)\n",
        "x1 = sp.laplace_transform(2*t*u, t, s)\n",
        "print('2.)')\n",
        "sp.inverse_laplace_transform(h*x1[0], s, t)"
      ],
      "metadata": {
        "colab": {
          "base_uri": "https://localhost:8080/",
          "height": 56
        },
        "id": "jbaRnwaUUNZ8",
        "outputId": "677cc72d-ec59-49f0-f71c-fc9d019f9f2e"
      },
      "execution_count": null,
      "outputs": [
        {
          "output_type": "stream",
          "name": "stdout",
          "text": [
            "2.)\n"
          ]
        },
        {
          "output_type": "execute_result",
          "data": {
            "text/plain": [
              "4*t*(10 - exp(4*t))*exp(-5*t)"
            ],
            "text/latex": "$\\displaystyle 4 t \\left(10 - e^{4 t}\\right) e^{- 5 t}$"
          },
          "metadata": {},
          "execution_count": 75
        }
      ]
    },
    {
      "cell_type": "code",
      "source": [
        "x2 = sp.laplace_transform(t*sp.exp(-4*t)*u, t, s)\n",
        "print('3.)')\n",
        "sp.inverse_laplace_transform(h*x2[0], s, t)"
      ],
      "metadata": {
        "colab": {
          "base_uri": "https://localhost:8080/",
          "height": 56
        },
        "id": "XxCGMH89VGp4",
        "outputId": "34dde02a-03d9-456e-d8a5-20b647e3d855"
      },
      "execution_count": null,
      "outputs": [
        {
          "output_type": "stream",
          "name": "stdout",
          "text": [
            "3.)\n"
          ]
        },
        {
          "output_type": "execute_result",
          "data": {
            "text/plain": [
              "2*t*(10 - exp(4*t))*exp(-9*t)"
            ],
            "text/latex": "$\\displaystyle 2 t \\left(10 - e^{4 t}\\right) e^{- 9 t}$"
          },
          "metadata": {},
          "execution_count": 76
        }
      ]
    },
    {
      "cell_type": "code",
      "source": [
        "x3 = sp.laplace_transform(4*sp.cos(4*t)*u, t, s)\n",
        "print('4.)')\n",
        "sp.inverse_laplace_transform(h*x3[0], s, t)"
      ],
      "metadata": {
        "colab": {
          "base_uri": "https://localhost:8080/",
          "height": 56
        },
        "id": "jw6GsYyWV1I9",
        "outputId": "43ba6457-6ce5-4aa2-bbaa-29d3c35456b5"
      },
      "execution_count": null,
      "outputs": [
        {
          "output_type": "stream",
          "name": "stdout",
          "text": [
            "4.)\n"
          ]
        },
        {
          "output_type": "execute_result",
          "data": {
            "text/plain": [
              "8*(10 - exp(4*t))*exp(-5*t)*cos(4*t)"
            ],
            "text/latex": "$\\displaystyle 8 \\left(10 - e^{4 t}\\right) e^{- 5 t} \\cos{\\left(4 t \\right)}$"
          },
          "metadata": {},
          "execution_count": 77
        }
      ]
    },
    {
      "cell_type": "markdown",
      "source": [
        "\n",
        "G) For the circuit below determine a) $H(s)$, and b) $h(t)$ assuming that $R=5\\mathrm{~\\Omega}$, $L=0.1\\mathrm{~mH}$, $C=1\\mathrm{~\\mu F}$.\n"
      ],
      "metadata": {
        "id": "qVODX45LgPQX"
      }
    },
    {
      "cell_type": "markdown",
      "source": [
        "![image.png](data:image/png;base64,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)"
      ],
      "metadata": {
        "id": "hgvcw6NkhBQU"
      }
    },
    {
      "cell_type": "code",
      "source": [
        "L,C,R = sp.symbols(\"L,C,R\", real=True, positive=True)\n",
        "Vi,Vo,omega=sp.symbols(\"Vi,Vo,omega\", real=True)\n",
        "s=sp.symbols(\"s\")\n",
        "t=sp.symbols(\"t\",positive=True)\n",
        "\n",
        "subsVals = {R:5, L:sp.Rational(1,10000), C:sp.Rational(1,1000000)}\n",
        "Z1 = s*L\n",
        "Z2 = R/(1+R*C*s)\n",
        "\n",
        "f1 = (Vi-Vo)/Z1 + (0-Vo)/Z2"
      ],
      "metadata": {
        "id": "T2a1AG_Nezwi"
      },
      "execution_count": null,
      "outputs": []
    },
    {
      "cell_type": "code",
      "source": [
        "solns = sp.solve(f1,Vo)\n",
        "H = solns[0]/Vi\n",
        "H"
      ],
      "metadata": {
        "colab": {
          "base_uri": "https://localhost:8080/",
          "height": 53
        },
        "id": "nEm5C3GyvB5L",
        "outputId": "3415ebfa-1952-4608-f2ae-16c647f941ba"
      },
      "execution_count": null,
      "outputs": [
        {
          "output_type": "execute_result",
          "data": {
            "text/plain": [
              "R/(C*L*R*s**2 + L*s + R)"
            ],
            "text/latex": "$\\displaystyle \\frac{R}{C L R s^{2} + L s + R}$"
          },
          "metadata": {},
          "execution_count": 79
        }
      ]
    },
    {
      "cell_type": "code",
      "source": [
        "Hs = H.subs(subsVals).apart(extension=sp.I)\n",
        "print('G.) H(s):')\n",
        "Hs"
      ],
      "metadata": {
        "colab": {
          "base_uri": "https://localhost:8080/",
          "height": 75
        },
        "id": "beLMlArUv1lt",
        "outputId": "a21394e7-a1b3-4054-f37e-3ef7f41044a5"
      },
      "execution_count": null,
      "outputs": [
        {
          "output_type": "stream",
          "name": "stdout",
          "text": [
            "G.) H(s):\n"
          ]
        },
        {
          "output_type": "execute_result",
          "data": {
            "text/plain": [
              "10000000000/(s + 100000)**2"
            ],
            "text/latex": "$\\displaystyle \\frac{10000000000}{\\left(s + 100000\\right)^{2}}$"
          },
          "metadata": {},
          "execution_count": 80
        }
      ]
    },
    {
      "cell_type": "code",
      "source": [
        "sp.plot(sp.Abs(Hs.subs(s,sp.I*omega)),(omega,1e4,1e8),xscale='log',yscale='log')"
      ],
      "metadata": {
        "colab": {
          "base_uri": "https://localhost:8080/",
          "height": 504
        },
        "id": "wi4Qjsszw_St",
        "outputId": "b3c70710-9307-47c1-a9ee-cbe4768a9288"
      },
      "execution_count": null,
      "outputs": [
        {
          "output_type": "display_data",
          "data": {
            "text/plain": [
              "<Figure size 640x480 with 1 Axes>"
            ],
            "image/png": "[encoded data removed]"
          },
          "metadata": {}
        },
        {
          "output_type": "execute_result",
          "data": {
            "text/plain": [
              "<sympy.plotting.backends.matplotlibbackend.matplotlib.MatplotlibBackend at 0x791f5c6db800>"
            ]
          },
          "metadata": {},
          "execution_count": 81
        }
      ]
    },
    {
      "cell_type": "code",
      "source": [
        "h = sp.inverse_laplace_transform(Hs,s,t)\n",
        "h"
      ],
      "metadata": {
        "colab": {
          "base_uri": "https://localhost:8080/",
          "height": 38
        },
        "id": "NgTsU3j4y-Ox",
        "outputId": "965ff577-1fea-4d91-e52c-50d56e7fdff1"
      },
      "execution_count": null,
      "outputs": [
        {
          "output_type": "execute_result",
          "data": {
            "text/plain": [
              "10000000000*t*exp(-100000*t)"
            ],
            "text/latex": "$\\displaystyle 10000000000 t e^{- 100000 t}$"
          },
          "metadata": {},
          "execution_count": 82
        }
      ]
    },
    {
      "cell_type": "code",
      "source": [
        "print('G.) h(t):')\n",
        "sp.inverse_laplace_transform(H.subs(subsVals),s,t)"
      ],
      "metadata": {
        "colab": {
          "base_uri": "https://localhost:8080/",
          "height": 56
        },
        "id": "pEuJdq6G0E2P",
        "outputId": "af99f839-4269-4688-a47f-7054d0fea2d6"
      },
      "execution_count": null,
      "outputs": [
        {
          "output_type": "stream",
          "name": "stdout",
          "text": [
            "G.) h(t):\n"
          ]
        },
        {
          "output_type": "execute_result",
          "data": {
            "text/plain": [
              "10000000000*t*exp(-100000*t)"
            ],
            "text/latex": "$\\displaystyle 10000000000 t e^{- 100000 t}$"
          },
          "metadata": {},
          "execution_count": 85
        }
      ]
    }
  ]
}