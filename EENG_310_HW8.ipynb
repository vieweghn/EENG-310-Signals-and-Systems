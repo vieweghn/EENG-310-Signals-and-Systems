{
  "nbformat": 4,
  "nbformat_minor": 0,
  "metadata": {
    "colab": {
      "provenance": [],
      "include_colab_link": true
    },
    "kernelspec": {
      "name": "python3",
      "display_name": "Python 3"
    },
    "language_info": {
      "name": "python"
    }
  },
  "cells": [
    {
      "cell_type": "markdown",
      "metadata": {
        "id": "view-in-github",
        "colab_type": "text"
      },
      "source": [
        "<a href=\"https://colab.research.google.com/github/vieweghn/EENG-310-Signals-and-Systems/blob/main/EENG_310_HW8.ipynb\" target=\"_parent\"><img src=\"https://colab.research.google.com/assets/colab-badge.svg\" alt=\"Open In Colab\"/></a>"
      ]
    },
    {
      "cell_type": "markdown",
      "source": [
        "A. system is characterized by the differential equation\n",
        "\n",
        "\\begin{equation}\n",
        "c_1 \\frac{dy}{dt}+c_2 y=10 \\cos(400t - 30^\\circ)\n",
        "\\end{equation}\n",
        "\n",
        "1. Determine $y(t)$, given that $c_1 = 10^{−2}$ and $c_2 = 3$ `(ans: 2.00 cos(400t + -83.1 (deg)))`\n",
        "2. Determine $y(t)$, given that $c_1 = 10^{-2}$ and $c_2 = 0.3$ `(ans: 2.49 cos(400t + -116 (deg)))`\n",
        "3. Repeat (1.) but replace $\\cos$ with $\\sin$.\n",
        "\n",
        "`(ans: 2.00 cos(400t + -173 (deg)) (note: same answer but 90 degrees more phase))`\n"
      ],
      "metadata": {
        "id": "_Or1Eij99UPt"
      }
    },
    {
      "cell_type": "markdown",
      "source": [
        "B. A system is characterized by:\n",
        "\n",
        "\\begin{equation}\n",
        "4\\times10^{−3} \\frac{dy}{dt} + 3y =5\\cos(1000t) - 10\\cos(2000t)\n",
        "\\end{equation}\n",
        "\n",
        "Determine $y(t)$. (Hint: Apply the superposition property of\n",
        "LTI systems.)\n",
        "\n",
        "ans:\n",
        "```\n",
        "y(t) = 1.00 cos(1000t + (-53.1)) + 1.17 cos(2000 t + (111))\n",
        "or\n",
        "y(t) = 1.00 cos(1000t + (-53.1)) - 1.17 cos(2000 t + (-69.4))\n",
        "```"
      ],
      "metadata": {
        "id": "e9EPi7zQsqdr"
      }
    }
  ]
}